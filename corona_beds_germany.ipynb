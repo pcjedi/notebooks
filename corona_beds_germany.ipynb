{
 "cells": [
  {
   "cell_type": "code",
   "execution_count": 1,
   "metadata": {},
   "outputs": [],
   "source": [
    "import requests\n",
    "import pandas as pd\n",
    "from lxml import html\n",
    "from itertools import product\n",
    "import datetime\n",
    "\n",
    "now = datetime.datetime.now"
   ]
  },
  {
   "cell_type": "code",
   "execution_count": 2,
   "metadata": {},
   "outputs": [],
   "source": [
    "r = requests.get('https://diviexchange.z6.web.core.windows.net/laendertabelle1.svg')"
   ]
  },
  {
   "cell_type": "code",
   "execution_count": 3,
   "metadata": {},
   "outputs": [],
   "source": [
    "svg_element = html.fromstring(r.text)"
   ]
  },
  {
   "cell_type": "code",
   "execution_count": 4,
   "metadata": {},
   "outputs": [],
   "source": [
    "labels = [t.text.strip() for t in svg_element.findall('./g/g/g/g/g/g/text')]\n",
    "\n",
    "country_lab = labels[-17:]\n",
    "name_lab = labels[:-17]\n",
    "name_lab = [a+' '+b for a,b in zip(name_lab[0::2], name_lab[1::2])]\n",
    "\n",
    "values = [t.text.strip() for t in svg_element.findall('./g/g/g/g/g/text')]"
   ]
  },
  {
   "cell_type": "code",
   "execution_count": 5,
   "metadata": {},
   "outputs": [],
   "source": [
    "s = {k:v for k,v in zip(product(name_lab, country_lab[::-1], [now()]), values)}"
   ]
  },
  {
   "cell_type": "code",
   "execution_count": 6,
   "metadata": {},
   "outputs": [],
   "source": [
    "df = pd.Series(s).unstack().T"
   ]
  },
  {
   "cell_type": "code",
   "execution_count": 7,
   "metadata": {},
   "outputs": [],
   "source": [
    "csv_path = 'corona_beds.csv'\n",
    "\n",
    "try:\n",
    "    df_old = pd.read_csv(csv_path, header=[0,1], index_col=0).astype(str)\n",
    "\n",
    "    if not (df_old.iloc[-1] == df).values.all():\n",
    "        pd.concat([df_old, df]).to_csv(csv_path)\n",
    "except FileNotFoundError:\n",
    "    df.to_csv(csv_path)"
   ]
  },
  {
   "cell_type": "code",
   "execution_count": 8,
   "metadata": {},
   "outputs": [],
   "source": [
    "# pd.read_csv(csv_path, header=[0,1], index_col=0, parse_dates=True)"
   ]
  }
 ],
 "metadata": {
  "kernelspec": {
   "display_name": "Python 3",
   "language": "python",
   "name": "python3"
  },
  "language_info": {
   "codemirror_mode": {
    "name": "ipython",
    "version": 3
   },
   "file_extension": ".py",
   "mimetype": "text/x-python",
   "name": "python",
   "nbconvert_exporter": "python",
   "pygments_lexer": "ipython3",
   "version": "3.8.2"
  }
 },
 "nbformat": 4,
 "nbformat_minor": 4
}
