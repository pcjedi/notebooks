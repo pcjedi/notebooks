{
 "cells": [
  {
   "cell_type": "markdown",
   "metadata": {},
   "source": [
    "### named Tuples\n",
    "\n",
    "It often appears that one wants to retrieve multiple outputs from a function. \n",
    "For example given a sentence as a string and you want to retrieve the first word and the last word:"
   ]
  },
  {
   "cell_type": "code",
   "execution_count": 3,
   "metadata": {},
   "outputs": [
    {
     "data": {
      "text/plain": [
       "('The', 'today')"
      ]
     },
     "execution_count": 3,
     "metadata": {},
     "output_type": "execute_result"
    }
   ],
   "source": [
    "def first_last(sentence):\n",
    "    sentence = sentence.strip()\n",
    "    if sentence.endswith('.'):\n",
    "        sentence = sentence[:-1]\n",
    "    words = sentence.split(' ')\n",
    "    return words[0], words[-1]\n",
    "\n",
    "sentence = 'The weather is nice today.'\n",
    "first_last(sentence)"
   ]
  },
  {
   "cell_type": "markdown",
   "metadata": {},
   "source": [
    "In the development process it often happens that other possible outputs must be appended or that the input must be validated. "
   ]
  },
  {
   "cell_type": "code",
   "execution_count": 4,
   "metadata": {},
   "outputs": [
    {
     "data": {
      "text/plain": [
       "('The', 'today', 5)"
      ]
     },
     "execution_count": 4,
     "metadata": {},
     "output_type": "execute_result"
    }
   ],
   "source": [
    "def first_last(sentence):\n",
    "    sentence = sentence.strip()\n",
    "    if sentence.endswith('.'):\n",
    "        sentence = sentence[:-1]\n",
    "    else:\n",
    "        return\n",
    "    words = sentence.split(' ')\n",
    "    return words[0], words[-1], len(words)\n",
    "\n",
    "sentence = 'The weather is nice today.'\n",
    "first_last(sentence)"
   ]
  },
  {
   "cell_type": "code",
   "execution_count": 6,
   "metadata": {},
   "outputs": [],
   "source": [
    "sentence = 'have come first alabama'\n",
    "first_last(sentence)"
   ]
  },
  {
   "cell_type": "markdown",
   "metadata": {},
   "source": [
    "In this case of changing outputs it is good practice to use a named tuple:"
   ]
  },
  {
   "cell_type": "code",
   "execution_count": 9,
   "metadata": {},
   "outputs": [],
   "source": [
    "from typing import NamedTuple\n",
    "class First_last(NamedTuple):\n",
    "    first:str\n",
    "    last:str\n",
    "    count:int\n",
    "    \n",
    "        \n",
    "def first_last(sentence):\n",
    "    sentence = sentence.strip()\n",
    "    if sentence.endswith('.'):\n",
    "        sentence = sentence[:-1]\n",
    "    else:\n",
    "        return\n",
    "    words = sentence.split(' ')\n",
    "    return First_last(first=words[0], last=words[-1], count=len(words))"
   ]
  },
  {
   "cell_type": "markdown",
   "metadata": {},
   "source": [
    "Now the output of the function will always be a single value, that is either None or a named tuple that can be easily accsesed. "
   ]
  },
  {
   "cell_type": "code",
   "execution_count": 14,
   "metadata": {},
   "outputs": [
    {
     "name": "stdout",
     "output_type": "stream",
     "text": [
      "fl is None\n"
     ]
    }
   ],
   "source": [
    "sentence = 'have come first alabama'\n",
    "fl = first_last(sentence)\n",
    "if fl is None:\n",
    "    print('fl is None')"
   ]
  },
  {
   "cell_type": "code",
   "execution_count": 15,
   "metadata": {},
   "outputs": [
    {
     "name": "stdout",
     "output_type": "stream",
     "text": [
      "The sentence has 5 words and the first one is The and the last one is today\n"
     ]
    }
   ],
   "source": [
    "sentence = 'The weather is nice today.'\n",
    "fl = first_last(sentence)\n",
    "if fl is not None:\n",
    "    print('The sentence has {} words and the first one is {} and the last one is {}'.format(fl.count, fl.first, fl.last))"
   ]
  },
  {
   "cell_type": "markdown",
   "metadata": {},
   "source": [
    "Also check out collections.namedTuple for an even simpler version"
   ]
  },
  {
   "cell_type": "code",
   "execution_count": null,
   "metadata": {},
   "outputs": [],
   "source": []
  }
 ],
 "metadata": {
  "kernelspec": {
   "display_name": "Python 3",
   "language": "python",
   "name": "python3"
  },
  "language_info": {
   "codemirror_mode": {
    "name": "ipython",
    "version": 3
   },
   "file_extension": ".py",
   "mimetype": "text/x-python",
   "name": "python",
   "nbconvert_exporter": "python",
   "pygments_lexer": "ipython3",
   "version": "3.7.1"
  }
 },
 "nbformat": 4,
 "nbformat_minor": 2
}
