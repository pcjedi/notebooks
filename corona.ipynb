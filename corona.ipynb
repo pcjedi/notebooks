{
 "cells": [
  {
   "cell_type": "code",
   "execution_count": 1,
   "metadata": {},
   "outputs": [],
   "source": [
    "%matplotlib inline\n",
    "\n",
    "import pandas as pd\n",
    "import matplotlib.pylab as plt\n",
    "from jupyterthemes import jtplot\n",
    "import numpy as np\n",
    "import time\n",
    "from scipy.optimize import curve_fit\n",
    "import datetime\n",
    "\n",
    "jtplot.style(theme='onedork')\n",
    "# plt.rcParams['figure.figsize'] = (6.0, 6.0)"
   ]
  },
  {
   "cell_type": "code",
   "execution_count": 2,
   "metadata": {},
   "outputs": [
    {
     "data": {
      "text/html": [
       "<div>\n",
       "<style scoped>\n",
       "    .dataframe tbody tr th:only-of-type {\n",
       "        vertical-align: middle;\n",
       "    }\n",
       "\n",
       "    .dataframe tbody tr th {\n",
       "        vertical-align: top;\n",
       "    }\n",
       "\n",
       "    .dataframe thead th {\n",
       "        text-align: right;\n",
       "    }\n",
       "</style>\n",
       "<table border=\"1\" class=\"dataframe\">\n",
       "  <thead>\n",
       "    <tr style=\"text-align: right;\">\n",
       "      <th></th>\n",
       "      <th></th>\n",
       "      <th>Lat</th>\n",
       "      <th>Long</th>\n",
       "      <th>1/22/20</th>\n",
       "      <th>1/23/20</th>\n",
       "      <th>1/24/20</th>\n",
       "      <th>1/25/20</th>\n",
       "      <th>1/26/20</th>\n",
       "      <th>1/27/20</th>\n",
       "      <th>1/28/20</th>\n",
       "      <th>1/29/20</th>\n",
       "      <th>...</th>\n",
       "      <th>3/5/20</th>\n",
       "      <th>3/6/20</th>\n",
       "      <th>3/7/20</th>\n",
       "      <th>3/8/20</th>\n",
       "      <th>3/9/20</th>\n",
       "      <th>3/10/20</th>\n",
       "      <th>3/11/20</th>\n",
       "      <th>3/12/20</th>\n",
       "      <th>3/13/20</th>\n",
       "      <th>3/14/20</th>\n",
       "    </tr>\n",
       "    <tr>\n",
       "      <th>Country/Region</th>\n",
       "      <th>Province/State</th>\n",
       "      <th></th>\n",
       "      <th></th>\n",
       "      <th></th>\n",
       "      <th></th>\n",
       "      <th></th>\n",
       "      <th></th>\n",
       "      <th></th>\n",
       "      <th></th>\n",
       "      <th></th>\n",
       "      <th></th>\n",
       "      <th></th>\n",
       "      <th></th>\n",
       "      <th></th>\n",
       "      <th></th>\n",
       "      <th></th>\n",
       "      <th></th>\n",
       "      <th></th>\n",
       "      <th></th>\n",
       "      <th></th>\n",
       "      <th></th>\n",
       "      <th></th>\n",
       "    </tr>\n",
       "  </thead>\n",
       "  <tbody>\n",
       "    <tr>\n",
       "      <th>Thailand</th>\n",
       "      <th>NaN</th>\n",
       "      <td>15.0000</td>\n",
       "      <td>101.0000</td>\n",
       "      <td>0</td>\n",
       "      <td>0</td>\n",
       "      <td>0</td>\n",
       "      <td>0</td>\n",
       "      <td>0</td>\n",
       "      <td>0</td>\n",
       "      <td>0</td>\n",
       "      <td>0</td>\n",
       "      <td>...</td>\n",
       "      <td>1</td>\n",
       "      <td>1</td>\n",
       "      <td>1</td>\n",
       "      <td>1</td>\n",
       "      <td>1</td>\n",
       "      <td>1</td>\n",
       "      <td>1</td>\n",
       "      <td>1</td>\n",
       "      <td>1</td>\n",
       "      <td>1</td>\n",
       "    </tr>\n",
       "    <tr>\n",
       "      <th>Japan</th>\n",
       "      <th>NaN</th>\n",
       "      <td>36.0000</td>\n",
       "      <td>138.0000</td>\n",
       "      <td>0</td>\n",
       "      <td>0</td>\n",
       "      <td>0</td>\n",
       "      <td>0</td>\n",
       "      <td>0</td>\n",
       "      <td>0</td>\n",
       "      <td>0</td>\n",
       "      <td>0</td>\n",
       "      <td>...</td>\n",
       "      <td>6</td>\n",
       "      <td>6</td>\n",
       "      <td>6</td>\n",
       "      <td>6</td>\n",
       "      <td>10</td>\n",
       "      <td>10</td>\n",
       "      <td>15</td>\n",
       "      <td>16</td>\n",
       "      <td>19</td>\n",
       "      <td>22</td>\n",
       "    </tr>\n",
       "    <tr>\n",
       "      <th>Singapore</th>\n",
       "      <th>NaN</th>\n",
       "      <td>1.2833</td>\n",
       "      <td>103.8333</td>\n",
       "      <td>0</td>\n",
       "      <td>0</td>\n",
       "      <td>0</td>\n",
       "      <td>0</td>\n",
       "      <td>0</td>\n",
       "      <td>0</td>\n",
       "      <td>0</td>\n",
       "      <td>0</td>\n",
       "      <td>...</td>\n",
       "      <td>0</td>\n",
       "      <td>0</td>\n",
       "      <td>0</td>\n",
       "      <td>0</td>\n",
       "      <td>0</td>\n",
       "      <td>0</td>\n",
       "      <td>0</td>\n",
       "      <td>0</td>\n",
       "      <td>0</td>\n",
       "      <td>0</td>\n",
       "    </tr>\n",
       "    <tr>\n",
       "      <th>Nepal</th>\n",
       "      <th>NaN</th>\n",
       "      <td>28.1667</td>\n",
       "      <td>84.2500</td>\n",
       "      <td>0</td>\n",
       "      <td>0</td>\n",
       "      <td>0</td>\n",
       "      <td>0</td>\n",
       "      <td>0</td>\n",
       "      <td>0</td>\n",
       "      <td>0</td>\n",
       "      <td>0</td>\n",
       "      <td>...</td>\n",
       "      <td>0</td>\n",
       "      <td>0</td>\n",
       "      <td>0</td>\n",
       "      <td>0</td>\n",
       "      <td>0</td>\n",
       "      <td>0</td>\n",
       "      <td>0</td>\n",
       "      <td>0</td>\n",
       "      <td>0</td>\n",
       "      <td>0</td>\n",
       "    </tr>\n",
       "    <tr>\n",
       "      <th>Malaysia</th>\n",
       "      <th>NaN</th>\n",
       "      <td>2.5000</td>\n",
       "      <td>112.5000</td>\n",
       "      <td>0</td>\n",
       "      <td>0</td>\n",
       "      <td>0</td>\n",
       "      <td>0</td>\n",
       "      <td>0</td>\n",
       "      <td>0</td>\n",
       "      <td>0</td>\n",
       "      <td>0</td>\n",
       "      <td>...</td>\n",
       "      <td>0</td>\n",
       "      <td>0</td>\n",
       "      <td>0</td>\n",
       "      <td>0</td>\n",
       "      <td>0</td>\n",
       "      <td>0</td>\n",
       "      <td>0</td>\n",
       "      <td>0</td>\n",
       "      <td>0</td>\n",
       "      <td>0</td>\n",
       "    </tr>\n",
       "    <tr>\n",
       "      <th>...</th>\n",
       "      <th>...</th>\n",
       "      <td>...</td>\n",
       "      <td>...</td>\n",
       "      <td>...</td>\n",
       "      <td>...</td>\n",
       "      <td>...</td>\n",
       "      <td>...</td>\n",
       "      <td>...</td>\n",
       "      <td>...</td>\n",
       "      <td>...</td>\n",
       "      <td>...</td>\n",
       "      <td>...</td>\n",
       "      <td>...</td>\n",
       "      <td>...</td>\n",
       "      <td>...</td>\n",
       "      <td>...</td>\n",
       "      <td>...</td>\n",
       "      <td>...</td>\n",
       "      <td>...</td>\n",
       "      <td>...</td>\n",
       "      <td>...</td>\n",
       "      <td>...</td>\n",
       "    </tr>\n",
       "    <tr>\n",
       "      <th>Saint Lucia</th>\n",
       "      <th>NaN</th>\n",
       "      <td>13.9094</td>\n",
       "      <td>-60.9789</td>\n",
       "      <td>0</td>\n",
       "      <td>0</td>\n",
       "      <td>0</td>\n",
       "      <td>0</td>\n",
       "      <td>0</td>\n",
       "      <td>0</td>\n",
       "      <td>0</td>\n",
       "      <td>0</td>\n",
       "      <td>...</td>\n",
       "      <td>0</td>\n",
       "      <td>0</td>\n",
       "      <td>0</td>\n",
       "      <td>0</td>\n",
       "      <td>0</td>\n",
       "      <td>0</td>\n",
       "      <td>0</td>\n",
       "      <td>0</td>\n",
       "      <td>0</td>\n",
       "      <td>0</td>\n",
       "    </tr>\n",
       "    <tr>\n",
       "      <th>Saint Vincent and the Grenadines</th>\n",
       "      <th>NaN</th>\n",
       "      <td>12.9843</td>\n",
       "      <td>-61.2872</td>\n",
       "      <td>0</td>\n",
       "      <td>0</td>\n",
       "      <td>0</td>\n",
       "      <td>0</td>\n",
       "      <td>0</td>\n",
       "      <td>0</td>\n",
       "      <td>0</td>\n",
       "      <td>0</td>\n",
       "      <td>...</td>\n",
       "      <td>0</td>\n",
       "      <td>0</td>\n",
       "      <td>0</td>\n",
       "      <td>0</td>\n",
       "      <td>0</td>\n",
       "      <td>0</td>\n",
       "      <td>0</td>\n",
       "      <td>0</td>\n",
       "      <td>0</td>\n",
       "      <td>0</td>\n",
       "    </tr>\n",
       "    <tr>\n",
       "      <th>Suriname</th>\n",
       "      <th>NaN</th>\n",
       "      <td>3.9193</td>\n",
       "      <td>-56.0278</td>\n",
       "      <td>0</td>\n",
       "      <td>0</td>\n",
       "      <td>0</td>\n",
       "      <td>0</td>\n",
       "      <td>0</td>\n",
       "      <td>0</td>\n",
       "      <td>0</td>\n",
       "      <td>0</td>\n",
       "      <td>...</td>\n",
       "      <td>0</td>\n",
       "      <td>0</td>\n",
       "      <td>0</td>\n",
       "      <td>0</td>\n",
       "      <td>0</td>\n",
       "      <td>0</td>\n",
       "      <td>0</td>\n",
       "      <td>0</td>\n",
       "      <td>0</td>\n",
       "      <td>0</td>\n",
       "    </tr>\n",
       "    <tr>\n",
       "      <th>US</th>\n",
       "      <th>Virgin Islands, U.S.</th>\n",
       "      <td>18.3358</td>\n",
       "      <td>-64.8963</td>\n",
       "      <td>0</td>\n",
       "      <td>0</td>\n",
       "      <td>0</td>\n",
       "      <td>0</td>\n",
       "      <td>0</td>\n",
       "      <td>0</td>\n",
       "      <td>0</td>\n",
       "      <td>0</td>\n",
       "      <td>...</td>\n",
       "      <td>0</td>\n",
       "      <td>0</td>\n",
       "      <td>0</td>\n",
       "      <td>0</td>\n",
       "      <td>0</td>\n",
       "      <td>0</td>\n",
       "      <td>0</td>\n",
       "      <td>0</td>\n",
       "      <td>0</td>\n",
       "      <td>0</td>\n",
       "    </tr>\n",
       "    <tr>\n",
       "      <th>occupied Palestinian territory</th>\n",
       "      <th>NaN</th>\n",
       "      <td>31.9522</td>\n",
       "      <td>35.2332</td>\n",
       "      <td>0</td>\n",
       "      <td>0</td>\n",
       "      <td>0</td>\n",
       "      <td>0</td>\n",
       "      <td>0</td>\n",
       "      <td>0</td>\n",
       "      <td>0</td>\n",
       "      <td>0</td>\n",
       "      <td>...</td>\n",
       "      <td>0</td>\n",
       "      <td>0</td>\n",
       "      <td>0</td>\n",
       "      <td>0</td>\n",
       "      <td>0</td>\n",
       "      <td>0</td>\n",
       "      <td>0</td>\n",
       "      <td>0</td>\n",
       "      <td>0</td>\n",
       "      <td>0</td>\n",
       "    </tr>\n",
       "  </tbody>\n",
       "</table>\n",
       "<p>442 rows × 55 columns</p>\n",
       "</div>"
      ],
      "text/plain": [
       "                                                           Lat      Long  \\\n",
       "Country/Region                   Province/State                            \n",
       "Thailand                         NaN                   15.0000  101.0000   \n",
       "Japan                            NaN                   36.0000  138.0000   \n",
       "Singapore                        NaN                    1.2833  103.8333   \n",
       "Nepal                            NaN                   28.1667   84.2500   \n",
       "Malaysia                         NaN                    2.5000  112.5000   \n",
       "...                                                        ...       ...   \n",
       "Saint Lucia                      NaN                   13.9094  -60.9789   \n",
       "Saint Vincent and the Grenadines NaN                   12.9843  -61.2872   \n",
       "Suriname                         NaN                    3.9193  -56.0278   \n",
       "US                               Virgin Islands, U.S.  18.3358  -64.8963   \n",
       "occupied Palestinian territory   NaN                   31.9522   35.2332   \n",
       "\n",
       "                                                       1/22/20  1/23/20  \\\n",
       "Country/Region                   Province/State                           \n",
       "Thailand                         NaN                         0        0   \n",
       "Japan                            NaN                         0        0   \n",
       "Singapore                        NaN                         0        0   \n",
       "Nepal                            NaN                         0        0   \n",
       "Malaysia                         NaN                         0        0   \n",
       "...                                                        ...      ...   \n",
       "Saint Lucia                      NaN                         0        0   \n",
       "Saint Vincent and the Grenadines NaN                         0        0   \n",
       "Suriname                         NaN                         0        0   \n",
       "US                               Virgin Islands, U.S.        0        0   \n",
       "occupied Palestinian territory   NaN                         0        0   \n",
       "\n",
       "                                                       1/24/20  1/25/20  \\\n",
       "Country/Region                   Province/State                           \n",
       "Thailand                         NaN                         0        0   \n",
       "Japan                            NaN                         0        0   \n",
       "Singapore                        NaN                         0        0   \n",
       "Nepal                            NaN                         0        0   \n",
       "Malaysia                         NaN                         0        0   \n",
       "...                                                        ...      ...   \n",
       "Saint Lucia                      NaN                         0        0   \n",
       "Saint Vincent and the Grenadines NaN                         0        0   \n",
       "Suriname                         NaN                         0        0   \n",
       "US                               Virgin Islands, U.S.        0        0   \n",
       "occupied Palestinian territory   NaN                         0        0   \n",
       "\n",
       "                                                       1/26/20  1/27/20  \\\n",
       "Country/Region                   Province/State                           \n",
       "Thailand                         NaN                         0        0   \n",
       "Japan                            NaN                         0        0   \n",
       "Singapore                        NaN                         0        0   \n",
       "Nepal                            NaN                         0        0   \n",
       "Malaysia                         NaN                         0        0   \n",
       "...                                                        ...      ...   \n",
       "Saint Lucia                      NaN                         0        0   \n",
       "Saint Vincent and the Grenadines NaN                         0        0   \n",
       "Suriname                         NaN                         0        0   \n",
       "US                               Virgin Islands, U.S.        0        0   \n",
       "occupied Palestinian territory   NaN                         0        0   \n",
       "\n",
       "                                                       1/28/20  1/29/20  ...  \\\n",
       "Country/Region                   Province/State                          ...   \n",
       "Thailand                         NaN                         0        0  ...   \n",
       "Japan                            NaN                         0        0  ...   \n",
       "Singapore                        NaN                         0        0  ...   \n",
       "Nepal                            NaN                         0        0  ...   \n",
       "Malaysia                         NaN                         0        0  ...   \n",
       "...                                                        ...      ...  ...   \n",
       "Saint Lucia                      NaN                         0        0  ...   \n",
       "Saint Vincent and the Grenadines NaN                         0        0  ...   \n",
       "Suriname                         NaN                         0        0  ...   \n",
       "US                               Virgin Islands, U.S.        0        0  ...   \n",
       "occupied Palestinian territory   NaN                         0        0  ...   \n",
       "\n",
       "                                                       3/5/20  3/6/20  3/7/20  \\\n",
       "Country/Region                   Province/State                                 \n",
       "Thailand                         NaN                        1       1       1   \n",
       "Japan                            NaN                        6       6       6   \n",
       "Singapore                        NaN                        0       0       0   \n",
       "Nepal                            NaN                        0       0       0   \n",
       "Malaysia                         NaN                        0       0       0   \n",
       "...                                                       ...     ...     ...   \n",
       "Saint Lucia                      NaN                        0       0       0   \n",
       "Saint Vincent and the Grenadines NaN                        0       0       0   \n",
       "Suriname                         NaN                        0       0       0   \n",
       "US                               Virgin Islands, U.S.       0       0       0   \n",
       "occupied Palestinian territory   NaN                        0       0       0   \n",
       "\n",
       "                                                       3/8/20  3/9/20  \\\n",
       "Country/Region                   Province/State                         \n",
       "Thailand                         NaN                        1       1   \n",
       "Japan                            NaN                        6      10   \n",
       "Singapore                        NaN                        0       0   \n",
       "Nepal                            NaN                        0       0   \n",
       "Malaysia                         NaN                        0       0   \n",
       "...                                                       ...     ...   \n",
       "Saint Lucia                      NaN                        0       0   \n",
       "Saint Vincent and the Grenadines NaN                        0       0   \n",
       "Suriname                         NaN                        0       0   \n",
       "US                               Virgin Islands, U.S.       0       0   \n",
       "occupied Palestinian territory   NaN                        0       0   \n",
       "\n",
       "                                                       3/10/20  3/11/20  \\\n",
       "Country/Region                   Province/State                           \n",
       "Thailand                         NaN                         1        1   \n",
       "Japan                            NaN                        10       15   \n",
       "Singapore                        NaN                         0        0   \n",
       "Nepal                            NaN                         0        0   \n",
       "Malaysia                         NaN                         0        0   \n",
       "...                                                        ...      ...   \n",
       "Saint Lucia                      NaN                         0        0   \n",
       "Saint Vincent and the Grenadines NaN                         0        0   \n",
       "Suriname                         NaN                         0        0   \n",
       "US                               Virgin Islands, U.S.        0        0   \n",
       "occupied Palestinian territory   NaN                         0        0   \n",
       "\n",
       "                                                       3/12/20  3/13/20  \\\n",
       "Country/Region                   Province/State                           \n",
       "Thailand                         NaN                         1        1   \n",
       "Japan                            NaN                        16       19   \n",
       "Singapore                        NaN                         0        0   \n",
       "Nepal                            NaN                         0        0   \n",
       "Malaysia                         NaN                         0        0   \n",
       "...                                                        ...      ...   \n",
       "Saint Lucia                      NaN                         0        0   \n",
       "Saint Vincent and the Grenadines NaN                         0        0   \n",
       "Suriname                         NaN                         0        0   \n",
       "US                               Virgin Islands, U.S.        0        0   \n",
       "occupied Palestinian territory   NaN                         0        0   \n",
       "\n",
       "                                                       3/14/20  \n",
       "Country/Region                   Province/State                 \n",
       "Thailand                         NaN                         1  \n",
       "Japan                            NaN                        22  \n",
       "Singapore                        NaN                         0  \n",
       "Nepal                            NaN                         0  \n",
       "Malaysia                         NaN                         0  \n",
       "...                                                        ...  \n",
       "Saint Lucia                      NaN                         0  \n",
       "Saint Vincent and the Grenadines NaN                         0  \n",
       "Suriname                         NaN                         0  \n",
       "US                               Virgin Islands, U.S.        0  \n",
       "occupied Palestinian territory   NaN                         0  \n",
       "\n",
       "[442 rows x 55 columns]"
      ]
     },
     "execution_count": 2,
     "metadata": {},
     "output_type": "execute_result"
    }
   ],
   "source": [
    "url = 'https://raw.githubusercontent.com/CSSEGISandData/COVID-19/master/csse_covid_19_data/csse_covid_19_time_series/time_series_19-covid-Deaths.csv'\n",
    "df = pd.read_csv(url, index_col=[0,1]).swaplevel(1,0)\n",
    "df"
   ]
  },
  {
   "cell_type": "code",
   "execution_count": 3,
   "metadata": {},
   "outputs": [],
   "source": [
    "df = df.drop(['Lat', 'Long'], 1).T"
   ]
  },
  {
   "cell_type": "code",
   "execution_count": 4,
   "metadata": {},
   "outputs": [],
   "source": [
    "df.index = pd.to_datetime(df.index)"
   ]
  },
  {
   "cell_type": "code",
   "execution_count": 5,
   "metadata": {},
   "outputs": [
    {
     "data": {
      "text/plain": [
       "<matplotlib.axes._subplots.AxesSubplot at 0x7fd88a0a3b20>"
      ]
     },
     "execution_count": 5,
     "metadata": {},
     "output_type": "execute_result"
    },
    {
     "data": {
      "image/png": "[encoded data removed]",
      "text/plain": [
       "<Figure size 460.8x403.2 with 1 Axes>"
      ]
     },
     "metadata": {},
     "output_type": "display_data"
    }
   ],
   "source": [
    "df.T.sum().plot()"
   ]
  },
  {
   "cell_type": "code",
   "execution_count": 6,
   "metadata": {},
   "outputs": [
    {
     "data": {
      "text/plain": [
       "442"
      ]
     },
     "execution_count": 6,
     "metadata": {},
     "output_type": "execute_result"
    }
   ],
   "source": [
    "len(df.columns)"
   ]
  },
  {
   "cell_type": "code",
   "execution_count": 7,
   "metadata": {},
   "outputs": [
    {
     "name": "stderr",
     "output_type": "stream",
     "text": [
      "/usr/lib/python3.8/site-packages/pandas/core/generic.py:3936: PerformanceWarning: dropping on a non-lexsorted multi-index without a level parameter may impact performance.\n",
      "  obj = obj._drop_axis(labels, axis, level=level, errors=errors)\n"
     ]
    },
    {
     "data": {
      "text/plain": [
       "409"
      ]
     },
     "execution_count": 7,
     "metadata": {},
     "output_type": "execute_result"
    }
   ],
   "source": [
    "df_exchina = df.drop('China', 1)\n",
    "len(df_exchina.columns)"
   ]
  },
  {
   "cell_type": "code",
   "execution_count": 8,
   "metadata": {},
   "outputs": [
    {
     "data": {
      "text/plain": [
       "<matplotlib.axes._subplots.AxesSubplot at 0x7fd887961ac0>"
      ]
     },
     "execution_count": 8,
     "metadata": {},
     "output_type": "execute_result"
    },
    {
     "data": {
      "image/png": "[encoded data removed]",
      "text/plain": [
       "<Figure size 460.8x403.2 with 1 Axes>"
      ]
     },
     "metadata": {},
     "output_type": "display_data"
    }
   ],
   "source": [
    "df_exchina.T.sum().plot()"
   ]
  },
  {
   "cell_type": "code",
   "execution_count": 9,
   "metadata": {},
   "outputs": [
    {
     "data": {
      "text/plain": [
       "<matplotlib.axes._subplots.AxesSubplot at 0x7fd887977e50>"
      ]
     },
     "execution_count": 9,
     "metadata": {},
     "output_type": "execute_result"
    },
    {
     "data": {
      "image/png": "[encoded data removed]",
      "text/plain": [
       "<Figure size 460.8x403.2 with 1 Axes>"
      ]
     },
     "metadata": {},
     "output_type": "display_data"
    }
   ],
   "source": [
    "df_exchina.T.sum().plot(logy = True)"
   ]
  },
  {
   "cell_type": "code",
   "execution_count": 10,
   "metadata": {},
   "outputs": [
    {
     "name": "stdout",
     "output_type": "stream",
     "text": [
      "0.07 0.15845662041739486 0.1\n"
     ]
    },
    {
     "data": {
      "image/png": "[encoded data removed]",
      "text/plain": [
       "<Figure size 460.8x403.2 with 1 Axes>"
      ]
     },
     "metadata": {},
     "output_type": "display_data"
    }
   ],
   "source": [
    "\n",
    "\n",
    "def sigmoid(x, sat, td, velo):\n",
    "    x = np.float64(x)\n",
    "    \n",
    "    td *= 1e10\n",
    "    td *= 1e9\n",
    "    \n",
    "    real_sat = 1e5 * sat\n",
    "    x = x - td\n",
    "    x /= 1e14\n",
    "    return real_sat / (1 + np.exp(-x * velo))\n",
    "\n",
    "x = df.index.values\n",
    "sat = 7000 / 1e5\n",
    "td = (time.time() + 3*24*3600) / 1e10\n",
    "velo = .1\n",
    "y = sigmoid(x, sat, td, velo)\n",
    "\n",
    "print(sat, td, velo)\n",
    "\n",
    "plt.plot(x, y)\n",
    "df_exchina.T.sum().plot()\n",
    "plt.show()"
   ]
  },
  {
   "cell_type": "code",
   "execution_count": 11,
   "metadata": {},
   "outputs": [],
   "source": [
    "\n",
    "\n",
    "popt, pcov = curve_fit(f = sigmoid, \n",
    "                       xdata = x, \n",
    "                       ydata = df_exchina.T.sum(), \n",
    "                       p0 = (sat, td, velo)\n",
    "                      )"
   ]
  },
  {
   "cell_type": "code",
   "execution_count": 12,
   "metadata": {},
   "outputs": [
    {
     "data": {
      "image/png": "[encoded data removed]",
      "text/plain": [
       "<Figure size 460.8x403.2 with 1 Axes>"
      ]
     },
     "metadata": {},
     "output_type": "display_data"
    },
    {
     "data": {
      "image/png": "[encoded data removed]",
      "text/plain": [
       "<Figure size 460.8x403.2 with 1 Axes>"
      ]
     },
     "metadata": {},
     "output_type": "display_data"
    }
   ],
   "source": [
    "y_fit = sigmoid(x, *list(popt))\n",
    "\n",
    "\n",
    "plt.plot(x, y_fit)\n",
    "df_exchina.T.sum().plot()\n",
    "plt.show()\n",
    "\n",
    "plt.plot(x, y_fit - df_exchina.T.sum())\n",
    "plt.show()"
   ]
  },
  {
   "cell_type": "code",
   "execution_count": 13,
   "metadata": {},
   "outputs": [
    {
     "data": {
      "text/plain": [
       "datetime.datetime(2020, 3, 21, 13, 50, 50, 828403)"
      ]
     },
     "execution_count": 13,
     "metadata": {},
     "output_type": "execute_result"
    }
   ],
   "source": [
    "t = popt[1] * 1e10\n",
    "datetime.datetime.fromtimestamp(t)"
   ]
  },
  {
   "cell_type": "code",
   "execution_count": 16,
   "metadata": {},
   "outputs": [
    {
     "data": {
      "text/plain": [
       "19220.748772732797"
      ]
     },
     "execution_count": 16,
     "metadata": {},
     "output_type": "execute_result"
    }
   ],
   "source": [
    "popt[0] * 1e5"
   ]
  },
  {
   "cell_type": "code",
   "execution_count": 15,
   "metadata": {},
   "outputs": [
    {
     "data": {
      "image/png": "[encoded data removed]",
      "text/plain": [
       "<Figure size 460.8x403.2 with 1 Axes>"
      ]
     },
     "metadata": {},
     "output_type": "display_data"
    }
   ],
   "source": [
    "x_extra = np.arange(datetime.datetime(2020,1,21), datetime.datetime(2020,5,1), datetime.timedelta(days=1)).astype('datetime64[ns]')\n",
    "y_extra = sigmoid(x_extra, *list(popt))\n",
    "\n",
    "plt.plot(x_extra, y_extra)\n",
    "df_exchina.T.sum().plot()\n",
    "plt.show()"
   ]
  }
 ],
 "metadata": {
  "kernelspec": {
   "display_name": "Python 3",
   "language": "python",
   "name": "python3"
  },
  "language_info": {
   "codemirror_mode": {
    "name": "ipython",
    "version": 3
   },
   "file_extension": ".py",
   "mimetype": "text/x-python",
   "name": "python",
   "nbconvert_exporter": "python",
   "pygments_lexer": "ipython3",
   "version": "3.8.1"
  }
 },
 "nbformat": 4,
 "nbformat_minor": 4
}
