{
 "cells": [
  {
   "cell_type": "code",
   "execution_count": 1,
   "metadata": {},
   "outputs": [],
   "source": [
    "%matplotlib inline\n",
    "\n",
    "import pandas as pd\n",
    "import matplotlib.pylab as plt\n",
    "from jupyterthemes import jtplot\n",
    "import numpy as np\n",
    "import time\n",
    "from scipy.optimize import curve_fit\n",
    "import datetime\n",
    "\n",
    "jtplot.style(theme='onedork')\n",
    "# plt.rcParams['figure.figsize'] = (6.0, 6.0)"
   ]
  },
  {
   "cell_type": "code",
   "execution_count": 2,
   "metadata": {},
   "outputs": [
    {
     "data": {
      "text/html": [
       "<div>\n",
       "<style scoped>\n",
       "    .dataframe tbody tr th:only-of-type {\n",
       "        vertical-align: middle;\n",
       "    }\n",
       "\n",
       "    .dataframe tbody tr th {\n",
       "        vertical-align: top;\n",
       "    }\n",
       "\n",
       "    .dataframe thead th {\n",
       "        text-align: right;\n",
       "    }\n",
       "</style>\n",
       "<table border=\"1\" class=\"dataframe\">\n",
       "  <thead>\n",
       "    <tr style=\"text-align: right;\">\n",
       "      <th></th>\n",
       "      <th></th>\n",
       "      <th>Lat</th>\n",
       "      <th>Long</th>\n",
       "      <th>1/22/20</th>\n",
       "      <th>1/23/20</th>\n",
       "      <th>1/24/20</th>\n",
       "      <th>1/25/20</th>\n",
       "      <th>1/26/20</th>\n",
       "      <th>1/27/20</th>\n",
       "      <th>1/28/20</th>\n",
       "      <th>1/29/20</th>\n",
       "      <th>...</th>\n",
       "      <th>3/18/20</th>\n",
       "      <th>3/19/20</th>\n",
       "      <th>3/20/20</th>\n",
       "      <th>3/21/20</th>\n",
       "      <th>3/22/20</th>\n",
       "      <th>3/23/20</th>\n",
       "      <th>3/24/20</th>\n",
       "      <th>3/25/20</th>\n",
       "      <th>3/26/20</th>\n",
       "      <th>3/27/20</th>\n",
       "    </tr>\n",
       "    <tr>\n",
       "      <th>Country/Region</th>\n",
       "      <th>Province/State</th>\n",
       "      <th></th>\n",
       "      <th></th>\n",
       "      <th></th>\n",
       "      <th></th>\n",
       "      <th></th>\n",
       "      <th></th>\n",
       "      <th></th>\n",
       "      <th></th>\n",
       "      <th></th>\n",
       "      <th></th>\n",
       "      <th></th>\n",
       "      <th></th>\n",
       "      <th></th>\n",
       "      <th></th>\n",
       "      <th></th>\n",
       "      <th></th>\n",
       "      <th></th>\n",
       "      <th></th>\n",
       "      <th></th>\n",
       "      <th></th>\n",
       "      <th></th>\n",
       "    </tr>\n",
       "  </thead>\n",
       "  <tbody>\n",
       "    <tr>\n",
       "      <th>Afghanistan</th>\n",
       "      <th>NaN</th>\n",
       "      <td>33.000000</td>\n",
       "      <td>65.000000</td>\n",
       "      <td>0</td>\n",
       "      <td>0</td>\n",
       "      <td>0</td>\n",
       "      <td>0</td>\n",
       "      <td>0</td>\n",
       "      <td>0</td>\n",
       "      <td>0</td>\n",
       "      <td>0</td>\n",
       "      <td>...</td>\n",
       "      <td>0</td>\n",
       "      <td>0</td>\n",
       "      <td>0</td>\n",
       "      <td>0</td>\n",
       "      <td>1</td>\n",
       "      <td>1</td>\n",
       "      <td>1</td>\n",
       "      <td>2</td>\n",
       "      <td>4</td>\n",
       "      <td>4</td>\n",
       "    </tr>\n",
       "    <tr>\n",
       "      <th>Albania</th>\n",
       "      <th>NaN</th>\n",
       "      <td>41.153300</td>\n",
       "      <td>20.168300</td>\n",
       "      <td>0</td>\n",
       "      <td>0</td>\n",
       "      <td>0</td>\n",
       "      <td>0</td>\n",
       "      <td>0</td>\n",
       "      <td>0</td>\n",
       "      <td>0</td>\n",
       "      <td>0</td>\n",
       "      <td>...</td>\n",
       "      <td>2</td>\n",
       "      <td>2</td>\n",
       "      <td>2</td>\n",
       "      <td>2</td>\n",
       "      <td>2</td>\n",
       "      <td>4</td>\n",
       "      <td>5</td>\n",
       "      <td>5</td>\n",
       "      <td>6</td>\n",
       "      <td>8</td>\n",
       "    </tr>\n",
       "    <tr>\n",
       "      <th>Algeria</th>\n",
       "      <th>NaN</th>\n",
       "      <td>28.033900</td>\n",
       "      <td>1.659600</td>\n",
       "      <td>0</td>\n",
       "      <td>0</td>\n",
       "      <td>0</td>\n",
       "      <td>0</td>\n",
       "      <td>0</td>\n",
       "      <td>0</td>\n",
       "      <td>0</td>\n",
       "      <td>0</td>\n",
       "      <td>...</td>\n",
       "      <td>7</td>\n",
       "      <td>9</td>\n",
       "      <td>11</td>\n",
       "      <td>15</td>\n",
       "      <td>17</td>\n",
       "      <td>17</td>\n",
       "      <td>19</td>\n",
       "      <td>21</td>\n",
       "      <td>25</td>\n",
       "      <td>26</td>\n",
       "    </tr>\n",
       "    <tr>\n",
       "      <th>Andorra</th>\n",
       "      <th>NaN</th>\n",
       "      <td>42.506300</td>\n",
       "      <td>1.521800</td>\n",
       "      <td>0</td>\n",
       "      <td>0</td>\n",
       "      <td>0</td>\n",
       "      <td>0</td>\n",
       "      <td>0</td>\n",
       "      <td>0</td>\n",
       "      <td>0</td>\n",
       "      <td>0</td>\n",
       "      <td>...</td>\n",
       "      <td>0</td>\n",
       "      <td>0</td>\n",
       "      <td>0</td>\n",
       "      <td>0</td>\n",
       "      <td>1</td>\n",
       "      <td>1</td>\n",
       "      <td>1</td>\n",
       "      <td>1</td>\n",
       "      <td>3</td>\n",
       "      <td>3</td>\n",
       "    </tr>\n",
       "    <tr>\n",
       "      <th>Angola</th>\n",
       "      <th>NaN</th>\n",
       "      <td>-11.202700</td>\n",
       "      <td>17.873900</td>\n",
       "      <td>0</td>\n",
       "      <td>0</td>\n",
       "      <td>0</td>\n",
       "      <td>0</td>\n",
       "      <td>0</td>\n",
       "      <td>0</td>\n",
       "      <td>0</td>\n",
       "      <td>0</td>\n",
       "      <td>...</td>\n",
       "      <td>0</td>\n",
       "      <td>0</td>\n",
       "      <td>0</td>\n",
       "      <td>0</td>\n",
       "      <td>0</td>\n",
       "      <td>0</td>\n",
       "      <td>0</td>\n",
       "      <td>0</td>\n",
       "      <td>0</td>\n",
       "      <td>0</td>\n",
       "    </tr>\n",
       "    <tr>\n",
       "      <th>...</th>\n",
       "      <th>...</th>\n",
       "      <td>...</td>\n",
       "      <td>...</td>\n",
       "      <td>...</td>\n",
       "      <td>...</td>\n",
       "      <td>...</td>\n",
       "      <td>...</td>\n",
       "      <td>...</td>\n",
       "      <td>...</td>\n",
       "      <td>...</td>\n",
       "      <td>...</td>\n",
       "      <td>...</td>\n",
       "      <td>...</td>\n",
       "      <td>...</td>\n",
       "      <td>...</td>\n",
       "      <td>...</td>\n",
       "      <td>...</td>\n",
       "      <td>...</td>\n",
       "      <td>...</td>\n",
       "      <td>...</td>\n",
       "      <td>...</td>\n",
       "      <td>...</td>\n",
       "    </tr>\n",
       "    <tr>\n",
       "      <th>Saint Kitts and Nevis</th>\n",
       "      <th>NaN</th>\n",
       "      <td>17.357822</td>\n",
       "      <td>-62.782998</td>\n",
       "      <td>0</td>\n",
       "      <td>0</td>\n",
       "      <td>0</td>\n",
       "      <td>0</td>\n",
       "      <td>0</td>\n",
       "      <td>0</td>\n",
       "      <td>0</td>\n",
       "      <td>0</td>\n",
       "      <td>...</td>\n",
       "      <td>0</td>\n",
       "      <td>0</td>\n",
       "      <td>0</td>\n",
       "      <td>0</td>\n",
       "      <td>0</td>\n",
       "      <td>0</td>\n",
       "      <td>0</td>\n",
       "      <td>0</td>\n",
       "      <td>0</td>\n",
       "      <td>0</td>\n",
       "    </tr>\n",
       "    <tr>\n",
       "      <th rowspan=\"2\" valign=\"top\">Canada</th>\n",
       "      <th>Northwest Territories</th>\n",
       "      <td>64.825500</td>\n",
       "      <td>-124.845700</td>\n",
       "      <td>0</td>\n",
       "      <td>0</td>\n",
       "      <td>0</td>\n",
       "      <td>0</td>\n",
       "      <td>0</td>\n",
       "      <td>0</td>\n",
       "      <td>0</td>\n",
       "      <td>0</td>\n",
       "      <td>...</td>\n",
       "      <td>0</td>\n",
       "      <td>0</td>\n",
       "      <td>0</td>\n",
       "      <td>0</td>\n",
       "      <td>0</td>\n",
       "      <td>0</td>\n",
       "      <td>0</td>\n",
       "      <td>0</td>\n",
       "      <td>0</td>\n",
       "      <td>0</td>\n",
       "    </tr>\n",
       "    <tr>\n",
       "      <th>Yukon</th>\n",
       "      <td>64.282300</td>\n",
       "      <td>-135.000000</td>\n",
       "      <td>0</td>\n",
       "      <td>0</td>\n",
       "      <td>0</td>\n",
       "      <td>0</td>\n",
       "      <td>0</td>\n",
       "      <td>0</td>\n",
       "      <td>0</td>\n",
       "      <td>0</td>\n",
       "      <td>...</td>\n",
       "      <td>0</td>\n",
       "      <td>0</td>\n",
       "      <td>0</td>\n",
       "      <td>0</td>\n",
       "      <td>0</td>\n",
       "      <td>0</td>\n",
       "      <td>0</td>\n",
       "      <td>0</td>\n",
       "      <td>0</td>\n",
       "      <td>0</td>\n",
       "    </tr>\n",
       "    <tr>\n",
       "      <th>Kosovo</th>\n",
       "      <th>NaN</th>\n",
       "      <td>42.602636</td>\n",
       "      <td>20.902977</td>\n",
       "      <td>0</td>\n",
       "      <td>0</td>\n",
       "      <td>0</td>\n",
       "      <td>0</td>\n",
       "      <td>0</td>\n",
       "      <td>0</td>\n",
       "      <td>0</td>\n",
       "      <td>0</td>\n",
       "      <td>...</td>\n",
       "      <td>0</td>\n",
       "      <td>0</td>\n",
       "      <td>0</td>\n",
       "      <td>0</td>\n",
       "      <td>0</td>\n",
       "      <td>0</td>\n",
       "      <td>0</td>\n",
       "      <td>0</td>\n",
       "      <td>1</td>\n",
       "      <td>1</td>\n",
       "    </tr>\n",
       "    <tr>\n",
       "      <th>Burma</th>\n",
       "      <th>NaN</th>\n",
       "      <td>21.916200</td>\n",
       "      <td>95.956000</td>\n",
       "      <td>0</td>\n",
       "      <td>0</td>\n",
       "      <td>0</td>\n",
       "      <td>0</td>\n",
       "      <td>0</td>\n",
       "      <td>0</td>\n",
       "      <td>0</td>\n",
       "      <td>0</td>\n",
       "      <td>...</td>\n",
       "      <td>0</td>\n",
       "      <td>0</td>\n",
       "      <td>0</td>\n",
       "      <td>0</td>\n",
       "      <td>0</td>\n",
       "      <td>0</td>\n",
       "      <td>0</td>\n",
       "      <td>0</td>\n",
       "      <td>0</td>\n",
       "      <td>0</td>\n",
       "    </tr>\n",
       "  </tbody>\n",
       "</table>\n",
       "<p>249 rows × 68 columns</p>\n",
       "</div>"
      ],
      "text/plain": [
       "                                                   Lat        Long  1/22/20  \\\n",
       "Country/Region        Province/State                                          \n",
       "Afghanistan           NaN                    33.000000   65.000000        0   \n",
       "Albania               NaN                    41.153300   20.168300        0   \n",
       "Algeria               NaN                    28.033900    1.659600        0   \n",
       "Andorra               NaN                    42.506300    1.521800        0   \n",
       "Angola                NaN                   -11.202700   17.873900        0   \n",
       "...                                                ...         ...      ...   \n",
       "Saint Kitts and Nevis NaN                    17.357822  -62.782998        0   \n",
       "Canada                Northwest Territories  64.825500 -124.845700        0   \n",
       "                      Yukon                  64.282300 -135.000000        0   \n",
       "Kosovo                NaN                    42.602636   20.902977        0   \n",
       "Burma                 NaN                    21.916200   95.956000        0   \n",
       "\n",
       "                                             1/23/20  1/24/20  1/25/20  \\\n",
       "Country/Region        Province/State                                     \n",
       "Afghanistan           NaN                          0        0        0   \n",
       "Albania               NaN                          0        0        0   \n",
       "Algeria               NaN                          0        0        0   \n",
       "Andorra               NaN                          0        0        0   \n",
       "Angola                NaN                          0        0        0   \n",
       "...                                              ...      ...      ...   \n",
       "Saint Kitts and Nevis NaN                          0        0        0   \n",
       "Canada                Northwest Territories        0        0        0   \n",
       "                      Yukon                        0        0        0   \n",
       "Kosovo                NaN                          0        0        0   \n",
       "Burma                 NaN                          0        0        0   \n",
       "\n",
       "                                             1/26/20  1/27/20  1/28/20  \\\n",
       "Country/Region        Province/State                                     \n",
       "Afghanistan           NaN                          0        0        0   \n",
       "Albania               NaN                          0        0        0   \n",
       "Algeria               NaN                          0        0        0   \n",
       "Andorra               NaN                          0        0        0   \n",
       "Angola                NaN                          0        0        0   \n",
       "...                                              ...      ...      ...   \n",
       "Saint Kitts and Nevis NaN                          0        0        0   \n",
       "Canada                Northwest Territories        0        0        0   \n",
       "                      Yukon                        0        0        0   \n",
       "Kosovo                NaN                          0        0        0   \n",
       "Burma                 NaN                          0        0        0   \n",
       "\n",
       "                                             1/29/20  ...  3/18/20  3/19/20  \\\n",
       "Country/Region        Province/State                  ...                     \n",
       "Afghanistan           NaN                          0  ...        0        0   \n",
       "Albania               NaN                          0  ...        2        2   \n",
       "Algeria               NaN                          0  ...        7        9   \n",
       "Andorra               NaN                          0  ...        0        0   \n",
       "Angola                NaN                          0  ...        0        0   \n",
       "...                                              ...  ...      ...      ...   \n",
       "Saint Kitts and Nevis NaN                          0  ...        0        0   \n",
       "Canada                Northwest Territories        0  ...        0        0   \n",
       "                      Yukon                        0  ...        0        0   \n",
       "Kosovo                NaN                          0  ...        0        0   \n",
       "Burma                 NaN                          0  ...        0        0   \n",
       "\n",
       "                                             3/20/20  3/21/20  3/22/20  \\\n",
       "Country/Region        Province/State                                     \n",
       "Afghanistan           NaN                          0        0        1   \n",
       "Albania               NaN                          2        2        2   \n",
       "Algeria               NaN                         11       15       17   \n",
       "Andorra               NaN                          0        0        1   \n",
       "Angola                NaN                          0        0        0   \n",
       "...                                              ...      ...      ...   \n",
       "Saint Kitts and Nevis NaN                          0        0        0   \n",
       "Canada                Northwest Territories        0        0        0   \n",
       "                      Yukon                        0        0        0   \n",
       "Kosovo                NaN                          0        0        0   \n",
       "Burma                 NaN                          0        0        0   \n",
       "\n",
       "                                             3/23/20  3/24/20  3/25/20  \\\n",
       "Country/Region        Province/State                                     \n",
       "Afghanistan           NaN                          1        1        2   \n",
       "Albania               NaN                          4        5        5   \n",
       "Algeria               NaN                         17       19       21   \n",
       "Andorra               NaN                          1        1        1   \n",
       "Angola                NaN                          0        0        0   \n",
       "...                                              ...      ...      ...   \n",
       "Saint Kitts and Nevis NaN                          0        0        0   \n",
       "Canada                Northwest Territories        0        0        0   \n",
       "                      Yukon                        0        0        0   \n",
       "Kosovo                NaN                          0        0        0   \n",
       "Burma                 NaN                          0        0        0   \n",
       "\n",
       "                                             3/26/20  3/27/20  \n",
       "Country/Region        Province/State                           \n",
       "Afghanistan           NaN                          4        4  \n",
       "Albania               NaN                          6        8  \n",
       "Algeria               NaN                         25       26  \n",
       "Andorra               NaN                          3        3  \n",
       "Angola                NaN                          0        0  \n",
       "...                                              ...      ...  \n",
       "Saint Kitts and Nevis NaN                          0        0  \n",
       "Canada                Northwest Territories        0        0  \n",
       "                      Yukon                        0        0  \n",
       "Kosovo                NaN                          1        1  \n",
       "Burma                 NaN                          0        0  \n",
       "\n",
       "[249 rows x 68 columns]"
      ]
     },
     "execution_count": 2,
     "metadata": {},
     "output_type": "execute_result"
    }
   ],
   "source": [
    "# https://github.com/CSSEGISandData/COVID-19/tree/master/csse_covid_19_data/csse_covid_19_time_series\n",
    "url = 'https://raw.githubusercontent.com/CSSEGISandData/COVID-19/master/csse_covid_19_data/csse_covid_19_time_series/time_series_covid19_deaths_global.csv'\n",
    "# url = 'https://raw.githubusercontent.com/CSSEGISandData/COVID-19/master/csse_covid_19_data/csse_covid_19_time_series/time_series_covid19_confirmed_global.csv'\n",
    "df = pd.read_csv(url, index_col=[0,1]).swaplevel(1,0)\n",
    "df"
   ]
  },
  {
   "cell_type": "code",
   "execution_count": 3,
   "metadata": {},
   "outputs": [],
   "source": [
    "df = df.drop(['Lat', 'Long'], 1).T"
   ]
  },
  {
   "cell_type": "code",
   "execution_count": 4,
   "metadata": {},
   "outputs": [],
   "source": [
    "df.index = pd.to_datetime(df.index)"
   ]
  },
  {
   "cell_type": "code",
   "execution_count": 5,
   "metadata": {},
   "outputs": [
    {
     "data": {
      "text/plain": [
       "<matplotlib.axes._subplots.AxesSubplot at 0x7f99facd5a60>"
      ]
     },
     "execution_count": 5,
     "metadata": {},
     "output_type": "execute_result"
    },
    {
     "data": {
      "image/png": "[encoded data removed]",
      "text/plain": [
       "<Figure size 460.8x403.2 with 1 Axes>"
      ]
     },
     "metadata": {},
     "output_type": "display_data"
    }
   ],
   "source": [
    "df.T.sum().plot()"
   ]
  },
  {
   "cell_type": "code",
   "execution_count": 6,
   "metadata": {},
   "outputs": [
    {
     "data": {
      "text/plain": [
       "249"
      ]
     },
     "execution_count": 6,
     "metadata": {},
     "output_type": "execute_result"
    }
   ],
   "source": [
    "len(df.columns)"
   ]
  },
  {
   "cell_type": "code",
   "execution_count": 7,
   "metadata": {},
   "outputs": [
    {
     "name": "stderr",
     "output_type": "stream",
     "text": [
      "/usr/lib/python3.8/site-packages/pandas/core/generic.py:3936: PerformanceWarning: dropping on a non-lexsorted multi-index without a level parameter may impact performance.\n",
      "  obj = obj._drop_axis(labels, axis, level=level, errors=errors)\n"
     ]
    },
    {
     "data": {
      "text/plain": [
       "216"
      ]
     },
     "execution_count": 7,
     "metadata": {},
     "output_type": "execute_result"
    }
   ],
   "source": [
    "df_exchina = df.drop('China', 1)\n",
    "df_exchina = df_exchina[df_exchina.T.sum() > 1]\n",
    "len(df_exchina.columns)"
   ]
  },
  {
   "cell_type": "code",
   "execution_count": 8,
   "metadata": {},
   "outputs": [
    {
     "data": {
      "text/plain": [
       "<matplotlib.axes._subplots.AxesSubplot at 0x7f99f8c472e0>"
      ]
     },
     "execution_count": 8,
     "metadata": {},
     "output_type": "execute_result"
    },
    {
     "data": {
      "image/png": "[encoded data removed]",
      "text/plain": [
       "<Figure size 460.8x403.2 with 1 Axes>"
      ]
     },
     "metadata": {},
     "output_type": "display_data"
    }
   ],
   "source": [
    "df_exchina.T.sum().plot()"
   ]
  },
  {
   "cell_type": "code",
   "execution_count": 9,
   "metadata": {},
   "outputs": [
    {
     "data": {
      "text/plain": [
       "<matplotlib.axes._subplots.AxesSubplot at 0x7f99fad7e820>"
      ]
     },
     "execution_count": 9,
     "metadata": {},
     "output_type": "execute_result"
    },
    {
     "data": {
      "image/png": "[encoded data removed]",
      "text/plain": [
       "<Figure size 460.8x403.2 with 1 Axes>"
      ]
     },
     "metadata": {},
     "output_type": "display_data"
    }
   ],
   "source": [
    "df_exchina.T.sum().plot(logy = True)"
   ]
  },
  {
   "cell_type": "code",
   "execution_count": 10,
   "metadata": {},
   "outputs": [],
   "source": [
    "def sigmoid(x, sat, td, velo):\n",
    "    x = np.float64(x)\n",
    "    \n",
    "    td *= 1e10\n",
    "    td *= 1e9\n",
    "    \n",
    "    real_sat = 1e5 * sat\n",
    "    x = x - td\n",
    "    x /= 1e14\n",
    "    return real_sat / (1 + np.exp(-x * velo))\n",
    "\n",
    "x = df_exchina.index\n",
    "sat = 30000 / 1e5\n",
    "td = time.time() / 1e10\n",
    "velo = .1"
   ]
  },
  {
   "cell_type": "code",
   "execution_count": 11,
   "metadata": {},
   "outputs": [],
   "source": [
    "popt, pcov = curve_fit(f = sigmoid, \n",
    "                       xdata = df_exchina.index, \n",
    "                       ydata = df_exchina.T.sum(), \n",
    "                       p0 = (sat, td, velo)\n",
    "                      )"
   ]
  },
  {
   "cell_type": "code",
   "execution_count": 12,
   "metadata": {},
   "outputs": [],
   "source": [
    "y_fit = sigmoid(x, *list(popt))"
   ]
  },
  {
   "cell_type": "code",
   "execution_count": 13,
   "metadata": {},
   "outputs": [
    {
     "data": {
      "text/plain": [
       "<matplotlib.legend.Legend at 0x7f99f8225cd0>"
      ]
     },
     "execution_count": 13,
     "metadata": {},
     "output_type": "execute_result"
    },
    {
     "data": {
      "image/png": "[encoded data removed]",
      "text/plain": [
       "<Figure size 460.8x403.2 with 2 Axes>"
      ]
     },
     "metadata": {},
     "output_type": "display_data"
    }
   ],
   "source": [
    "fig, ax1 = plt.subplots()\n",
    "plt.xticks(rotation=90)\n",
    "\n",
    "\n",
    "ax1.semilogy(x, y_fit, label=\"fit\")\n",
    "ax1.semilogy(x, df_exchina.T.sum(), label=\"data\")\n",
    "\n",
    "ax2 = ax1.twinx()\n",
    "ax2.semilogy(x, abs(y_fit - df_exchina.T.sum())/df_exchina.T.sum(), \"o:\", label=\"relative difference\")\n",
    "# ax1.legend(loc=\"lower left\")\n",
    "# ax2.legend(loc=\"center left\")\n",
    "ax1.legend(loc=\"center left\")\n",
    "ax2.legend(loc=\"center right\")"
   ]
  },
  {
   "cell_type": "code",
   "execution_count": 14,
   "metadata": {},
   "outputs": [],
   "source": [
    "th = datetime.datetime.fromtimestamp(popt[1] * 1e10)"
   ]
  },
  {
   "cell_type": "code",
   "execution_count": 15,
   "metadata": {},
   "outputs": [
    {
     "data": {
      "text/plain": [
       "'The total number of Deaths outside China due to Covid-19 will be 63871. Half of those will be reached at 2020-March-29 16:16'"
      ]
     },
     "execution_count": 15,
     "metadata": {},
     "output_type": "execute_result"
    }
   ],
   "source": [
    "f'The total number of Deaths outside China due to Covid-19 will be {int(popt[0] * 1e5)}. Half of those will be reached at {th.strftime(\"%Y-%B-%d %H:%M\")}'"
   ]
  },
  {
   "cell_type": "code",
   "execution_count": 16,
   "metadata": {},
   "outputs": [],
   "source": [
    "tstart = min(df_exchina.index)\n",
    "tend = tstart + (th - tstart) * 2"
   ]
  },
  {
   "cell_type": "code",
   "execution_count": 17,
   "metadata": {},
   "outputs": [
    {
     "data": {
      "image/png": "[encoded data removed]",
      "text/plain": [
       "<Figure size 460.8x403.2 with 1 Axes>"
      ]
     },
     "metadata": {},
     "output_type": "display_data"
    }
   ],
   "source": [
    "x_extra = np.arange(tstart, tend, datetime.timedelta(days=1)).astype('datetime64[ns]')\n",
    "y_extra = sigmoid(x_extra, *list(popt))\n",
    "\n",
    "plt.plot(x_extra, y_extra)\n",
    "df_exchina.T.sum().plot()\n",
    "plt.show()"
   ]
  },
  {
   "cell_type": "code",
   "execution_count": 18,
   "metadata": {},
   "outputs": [
    {
     "data": {
      "text/plain": [
       "2020-02-13      NaN\n",
       "2020-02-14      0.0\n",
       "2020-02-15      0.0\n",
       "2020-02-16      0.0\n",
       "2020-02-17      0.0\n",
       "2020-02-18      0.0\n",
       "2020-02-19      0.0\n",
       "2020-02-20      0.0\n",
       "2020-02-21      1.0\n",
       "2020-02-22      1.0\n",
       "2020-02-23      1.0\n",
       "2020-02-24      4.0\n",
       "2020-02-25      3.0\n",
       "2020-02-26      2.0\n",
       "2020-02-27      5.0\n",
       "2020-02-28      4.0\n",
       "2020-02-29      8.0\n",
       "2020-03-01      5.0\n",
       "2020-03-02     18.0\n",
       "2020-03-03     27.0\n",
       "2020-03-04     28.0\n",
       "2020-03-05     41.0\n",
       "2020-03-06     49.0\n",
       "2020-03-07     36.0\n",
       "2020-03-08    133.0\n",
       "2020-03-09     97.0\n",
       "2020-03-10    168.0\n",
       "2020-03-11    196.0\n",
       "2020-03-12      0.0\n",
       "2020-03-13    439.0\n",
       "2020-03-14    175.0\n",
       "2020-03-15    368.0\n",
       "2020-03-16    349.0\n",
       "2020-03-17    345.0\n",
       "2020-03-18    475.0\n",
       "2020-03-19    427.0\n",
       "2020-03-20    627.0\n",
       "2020-03-21    793.0\n",
       "2020-03-22    651.0\n",
       "2020-03-23    601.0\n",
       "2020-03-24    743.0\n",
       "2020-03-25    683.0\n",
       "2020-03-26    712.0\n",
       "2020-03-27    919.0\n",
       "dtype: float64"
      ]
     },
     "execution_count": 18,
     "metadata": {},
     "output_type": "execute_result"
    }
   ],
   "source": [
    "df_exchina[\"Italy\"].T.sum().diff()#.plot(logy=False)"
   ]
  },
  {
   "cell_type": "code",
   "execution_count": 19,
   "metadata": {},
   "outputs": [
    {
     "data": {
      "text/plain": [
       "2020-02-13       NaN\n",
       "2020-02-14       0.0\n",
       "2020-02-15       1.0\n",
       "2020-02-16       1.0\n",
       "2020-02-17       0.0\n",
       "2020-02-18       0.0\n",
       "2020-02-19       2.0\n",
       "2020-02-20       3.0\n",
       "2020-02-21       4.0\n",
       "2020-02-22       2.0\n",
       "2020-02-23       9.0\n",
       "2020-02-24      10.0\n",
       "2020-02-25       9.0\n",
       "2020-02-26      10.0\n",
       "2020-02-27      15.0\n",
       "2020-02-28      14.0\n",
       "2020-02-29      22.0\n",
       "2020-03-01      20.0\n",
       "2020-03-02      47.0\n",
       "2020-03-03      42.0\n",
       "2020-03-04      58.0\n",
       "2020-03-05      62.0\n",
       "2020-03-06      83.0\n",
       "2020-03-07      70.0\n",
       "2020-03-08     216.0\n",
       "2020-03-09     163.0\n",
       "2020-03-10     258.0\n",
       "2020-03-11     331.0\n",
       "2020-03-12      94.0\n",
       "2020-03-13     676.0\n",
       "2020-03-14     402.0\n",
       "2020-03-15     611.0\n",
       "2020-03-16     672.0\n",
       "2020-03-17     766.0\n",
       "2020-03-18     817.0\n",
       "2020-03-19    1126.0\n",
       "2020-03-20    1428.0\n",
       "2020-03-21    1668.0\n",
       "2020-03-22    1663.0\n",
       "2020-03-23    1854.0\n",
       "2020-03-24    2113.0\n",
       "2020-03-25    2552.0\n",
       "2020-03-26    2783.0\n",
       "2020-03-27    3223.0\n",
       "dtype: float64"
      ]
     },
     "execution_count": 19,
     "metadata": {},
     "output_type": "execute_result"
    }
   ],
   "source": [
    "df_exchina.T.sum().diff()"
   ]
  },
  {
   "cell_type": "code",
   "execution_count": 20,
   "metadata": {},
   "outputs": [],
   "source": [
    "x = []\n",
    "y_var = []\n",
    "y = []\n",
    "\n",
    "for e in df_exchina.index[30:]:\n",
    "    df_temp = df_exchina[:e]\n",
    "    \n",
    "    popt, pcov = curve_fit(f = sigmoid, \n",
    "                       xdata = df_temp.index, \n",
    "                       ydata = df_temp.T.sum(), \n",
    "                       p0 = (sat, td, velo)\n",
    "                      )\n",
    "    \n",
    "    x.append(e + datetime.timedelta(days=2))\n",
    "    y_var.append(np.diag(pcov)[1] * 1e10)\n",
    "    y.append(datetime.datetime.fromtimestamp(popt[1] * 1e10))\n",
    "    "
   ]
  },
  {
   "cell_type": "code",
   "execution_count": 21,
   "metadata": {},
   "outputs": [
    {
     "data": {
      "text/plain": [
       "<matplotlib.legend.Legend at 0x7f99f7fbf4c0>"
      ]
     },
     "execution_count": 21,
     "metadata": {},
     "output_type": "execute_result"
    },
    {
     "data": {
      "image/png": "[encoded data removed]",
      "text/plain": [
       "<Figure size 460.8x403.2 with 2 Axes>"
      ]
     },
     "metadata": {},
     "output_type": "display_data"
    }
   ],
   "source": [
    "fig, ax1 = plt.subplots()\n",
    "plt.xticks(rotation=90)\n",
    "plt.xlabel(\"date of prediction\")\n",
    "\n",
    "plt.ylabel(\"date predicted\")\n",
    "\n",
    "ax1.plot(x, y, label='date predicted', drawstyle='steps')\n",
    "ax1.plot(x, x, label='presence')\n",
    "\n",
    "\n",
    "ax2 = ax1.twinx()\n",
    "ax2.semilogy(x, y_var, \":\", label='variance on date', drawstyle='steps')\n",
    "plt.ylabel(\"variance[s]\")\n",
    "\n",
    "ax1.legend(loc=\"lower left\")\n",
    "ax2.legend(loc=\"lower right\")"
   ]
  }
 ],
 "metadata": {
  "kernelspec": {
   "display_name": "Python 3",
   "language": "python",
   "name": "python3"
  },
  "language_info": {
   "codemirror_mode": {
    "name": "ipython",
    "version": 3
   },
   "file_extension": ".py",
   "mimetype": "text/x-python",
   "name": "python",
   "nbconvert_exporter": "python",
   "pygments_lexer": "ipython3",
   "version": "3.8.1"
  }
 },
 "nbformat": 4,
 "nbformat_minor": 4
}
